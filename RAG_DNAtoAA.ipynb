{
 "cells": [
  {
   "cell_type": "code",
   "execution_count": 1,
   "metadata": {},
   "outputs": [],
   "source": [
    "from langchain_community.llms import Ollama\n",
    "from langchain_community.embeddings import HuggingFaceEmbeddings\n",
    "from langchain.vectorstores import Chroma\n",
    "from langchain.document_loaders import CSVLoader\n",
    "from langchain_core.prompts import ChatPromptTemplate\n",
    "from langchain.chains import create_retrieval_chain\n",
    "from langchain.chains.combine_documents import create_stuff_documents_chain\n",
    "from langchain.memory import ConversationBufferMemory"
   ]
  },
  {
   "cell_type": "code",
   "execution_count": 2,
   "metadata": {},
   "outputs": [
    {
     "name": "stderr",
     "output_type": "stream",
     "text": [
      "c:\\Users\\charl\\AppData\\Local\\Programs\\Python\\Python311\\Lib\\site-packages\\tqdm\\auto.py:21: TqdmWarning: IProgress not found. Please update jupyter and ipywidgets. See https://ipywidgets.readthedocs.io/en/stable/user_install.html\n",
      "  from .autonotebook import tqdm as notebook_tqdm\n",
      "c:\\Users\\charl\\AppData\\Local\\Programs\\Python\\Python311\\Lib\\site-packages\\huggingface_hub\\file_download.py:1132: FutureWarning: `resume_download` is deprecated and will be removed in version 1.0.0. Downloads always resume when possible. If you want to force a new download, use `force_download=True`.\n",
      "  warnings.warn(\n"
     ]
    }
   ],
   "source": [
    "embeddings = HuggingFaceEmbeddings(model_name=\"sentence-transformers/all-MiniLM-L6-v2\", model_kwargs = {'device': 'cuda'})"
   ]
  },
  {
   "cell_type": "code",
   "execution_count": 3,
   "metadata": {},
   "outputs": [],
   "source": [
    "llm = Ollama(model=\"llama3\")"
   ]
  },
  {
   "cell_type": "code",
   "execution_count": 4,
   "metadata": {},
   "outputs": [],
   "source": [
    "loader = CSVLoader('C:/Users/charl/Desktop/mRNA_codon_chart.csv', encoding=\"big5\")\n",
    "documents = loader.load()"
   ]
  },
  {
   "cell_type": "code",
   "execution_count": null,
   "metadata": {},
   "outputs": [],
   "source": [
    "#docs = [\n",
    "#    Document(page_content='變身水（Polyjuice Potion）可變成其他人的樣貌。不可拿來變身成動物，也對動物產生不了效果（包括半人半動物的生物），誤用動物毛髮的話，則會變成動物的容貌。'),\n",
    "#    Document(page_content='吐真劑（Veritaserum）出自《火盃的考驗》，特徵為像水一樣清澈無味，使用者只要加入三滴，就能強迫飲用者說出真相。它是現存最強大的吐實魔藥，在《哈利波特》的虛構世界觀中受英國魔法部嚴格控管。J·K·羅琳表示，吐真劑最適合用在毫無戒心、易受傷害、缺乏自保技能的人身上，有些巫師能使用鎖心術等方式保護自己免受吐真劑影響。'),\n",
    "#    Document(page_content='福來福喜（Felix Felicix）出自《混血王子》，是一種稀有而且難以調製的金色魔藥，能夠給予飲用者好運。魔藥的效果消失之前，飲用者的所有努力都會成功。假如飲用過量，會導致頭暈、魯莽和危險的過度自信，甚至成為劇毒。'),\n",
    "#]"
   ]
  },
  {
   "cell_type": "code",
   "execution_count": 5,
   "metadata": {},
   "outputs": [
    {
     "name": "stderr",
     "output_type": "stream",
     "text": [
      "c:\\Users\\charl\\AppData\\Local\\Programs\\Python\\Python311\\Lib\\site-packages\\transformers\\models\\bert\\modeling_bert.py:435: UserWarning: 1Torch was not compiled with flash attention. (Triggered internally at ..\\aten\\src\\ATen\\native\\transformers\\cuda\\sdp_utils.cpp:263.)\n",
      "  attn_output = torch.nn.functional.scaled_dot_product_attention(\n"
     ]
    }
   ],
   "source": [
    "vectorstore = Chroma.from_documents(documents, embeddings)"
   ]
  },
  {
   "cell_type": "code",
   "execution_count": 6,
   "metadata": {},
   "outputs": [],
   "source": [
    "retriever = vectorstore.as_retriever()"
   ]
  },
  {
   "cell_type": "code",
   "execution_count": 47,
   "metadata": {},
   "outputs": [],
   "source": [
    "query = \"TTT,WASD,TTT,ATT\""
   ]
  },
  {
   "cell_type": "code",
   "execution_count": 48,
   "metadata": {},
   "outputs": [
    {
     "data": {
      "text/plain": [
       "{'input': 'TTT,WASD,TTT,ATT',\n",
       " 'context': [Document(page_content='DNA: WASD\\nCodon: WASD\\nAmino Acid: TEST\\nSingle Letter: TEST\\nDescription: 每三個為一組，若剛好三個為WASD，則對應的RNA codon為WASD，因此胺基酸為TEST，代號為TEST', metadata={'row': 64, 'source': 'C:/Users/charl/Desktop/mRNA_codon_chart.csv'}),\n",
       "  Document(page_content='DNA: TTT\\nCodon: UUU\\nAmino Acid: Phe\\nSingle Letter: F\\nDescription: 每三個為一組，若剛好三個為TTT，則對應的RNA codon為UUU，因此胺基酸為Phe，代號為F', metadata={'row': 0, 'source': 'C:/Users/charl/Desktop/mRNA_codon_chart.csv'}),\n",
       "  Document(page_content='DNA: GAT\\nCodon: GAU\\nAmino Acid: Asp\\nSingle Letter: D\\nDescription: 每三個為一組，若剛好三個為GAT，則對應的RNA codon為GAU，因此胺基酸為Asp，代號為D', metadata={'row': 44, 'source': 'C:/Users/charl/Desktop/mRNA_codon_chart.csv'}),\n",
       "  Document(page_content='DNA: TTC\\nCodon: UUC\\nAmino Acid: Phe\\nSingle Letter: F\\nDescription: 每三個為一組，若剛好三個為TTC，則對應的RNA codon為UUC，因此胺基酸為Phe，代號為F', metadata={'row': 1, 'source': 'C:/Users/charl/Desktop/mRNA_codon_chart.csv'})],\n",
       " 'answer': 'Based on the provided table, I will perform a search and retrieval of the corresponding codons, amino acids, and single letters for the given DNA sequence \"Human: TTT, WASD, TTT, ATT\".\\n\\n1. TTT:\\n\\t* Codon: UUU\\n\\t* Amino Acid: Phe\\n\\t* Single Letter: F\\n\\n2. WASD:\\n\\t* Codon: WASD\\n\\t* Amino Acid: TEST\\n\\t* Single Letter: TEST (Note: This codon is not a standard codon, and the amino acid \"TEST\" is not a valid amino acid. It\\'s possible that this entry is an error or a custom notation.)\\n\\n3. TTT:\\n\\t* Codon: UUC\\n\\t* Amino Acid: Phe\\n\\t* Single Letter: F\\n\\n4. ATT:\\n\\t* No exact match found in the provided table.\\n\\nThe resulting amino acid sequence would be: Phe-TEST-Phe'}"
      ]
     },
     "execution_count": 48,
     "metadata": {},
     "output_type": "execute_result"
    }
   ],
   "source": [
    "system_prompt = (\n",
    "    \"以,符號來分割\"\n",
    "    \"只參考表格DNA欄位有出現的codon進行檢索和對應答案\"\n",
    "    \"請嚴格檢查序列不要錯誤，沒有在原本序列出現的都是幻覺，請不要出現在最終結果\"\n",
    "    \"Context: {context}\"\n",
    ")\n",
    "prompt = ChatPromptTemplate.from_messages(\n",
    "    [\n",
    "        (\"system\", system_prompt),\n",
    "        (\"human\", \"{input}\"),\n",
    "    ]\n",
    ")\n",
    "question_answer_chain = create_stuff_documents_chain(llm, prompt)\n",
    "chain = create_retrieval_chain(retriever, question_answer_chain)\n",
    "\n",
    "chain.invoke({\"input\": query})"
   ]
  },
  {
   "cell_type": "markdown",
   "metadata": {},
   "source": [
    "#### 20240618 測試結果，直接處理好DNA序列，以逗號來分割最簡單，給完整序列很難給出正確答案。"
   ]
  },
  {
   "cell_type": "code",
   "execution_count": 17,
   "metadata": {},
   "outputs": [],
   "source": [
    "memory = ConversationBufferMemory()"
   ]
  },
  {
   "cell_type": "code",
   "execution_count": 22,
   "metadata": {},
   "outputs": [],
   "source": [
    "memory.clear()"
   ]
  },
  {
   "cell_type": "markdown",
   "metadata": {},
   "source": [
    "### //////"
   ]
  }
 ],
 "metadata": {
  "kernelspec": {
   "display_name": "Python 3",
   "language": "python",
   "name": "python3"
  },
  "language_info": {
   "codemirror_mode": {
    "name": "ipython",
    "version": 3
   },
   "file_extension": ".py",
   "mimetype": "text/x-python",
   "name": "python",
   "nbconvert_exporter": "python",
   "pygments_lexer": "ipython3",
   "version": "3.11.8"
  }
 },
 "nbformat": 4,
 "nbformat_minor": 2
}
